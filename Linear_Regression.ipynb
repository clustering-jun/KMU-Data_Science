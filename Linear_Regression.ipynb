{
  "nbformat": 4,
  "nbformat_minor": 0,
  "metadata": {
    "colab": {
      "provenance": [],
      "authorship_tag": "ABX9TyMybfRROiF68fajoJeAImDf",
      "include_colab_link": true
    },
    "kernelspec": {
      "name": "python3",
      "display_name": "Python 3"
    },
    "language_info": {
      "name": "python"
    }
  },
  "cells": [
    {
      "cell_type": "markdown",
      "metadata": {
        "id": "view-in-github",
        "colab_type": "text"
      },
      "source": [
        "<a href=\"https://colab.research.google.com/github/clustering-jun/KMU-Data_Science/blob/main/Linear_Regression.ipynb\" target=\"_parent\"><img src=\"https://colab.research.google.com/assets/colab-badge.svg\" alt=\"Open In Colab\"/></a>"
      ]
    },
    {
      "cell_type": "markdown",
      "source": [
        "# **Linear Regression Practice**\n"
      ],
      "metadata": {
        "id": "xXLCvW1WzmSa"
      }
    },
    {
      "cell_type": "markdown",
      "source": [
        "## **PyTorch Basic**"
      ],
      "metadata": {
        "id": "YGTHtkppzxRq"
      }
    },
    {
      "cell_type": "code",
      "execution_count": 1,
      "metadata": {
        "id": "R4BG2nhXzREo"
      },
      "outputs": [],
      "source": [
        "import torch"
      ]
    },
    {
      "cell_type": "markdown",
      "source": [
        "### **Tensor**\n",
        "파이토치에서 사용하는 가장 기본적인 자료구조\n",
        "- 다양한 수식 계산 지원\n",
        "- 수학의 스칼라, 벡터, 행렬 등을 일반화한 개념\n",
        " - Scalar, Vector, Matrix, Tensor"
      ],
      "metadata": {
        "id": "8o-bZ7Sz0j-h"
      }
    },
    {
      "cell_type": "code",
      "source": [
        "x = torch.tensor([[1,2,3], [4,5,6], [7,8,9]])\n",
        "y = torch.FloatTensor([[1,2,3], [4,5,6], [7,8,9]])\n",
        "\n",
        "print(x)\n",
        "print(x.type())\n",
        "\n",
        "print(y)\n",
        "print(y.type())"
      ],
      "metadata": {
        "colab": {
          "base_uri": "https://localhost:8080/"
        },
        "id": "m_BaDiRQqd23",
        "outputId": "8fd77ff6-6c39-4a59-e349-d22675d73a35"
      },
      "execution_count": 10,
      "outputs": [
        {
          "output_type": "stream",
          "name": "stdout",
          "text": [
            "tensor([[1, 2, 3],\n",
            "        [4, 5, 6],\n",
            "        [7, 8, 9]])\n",
            "torch.LongTensor\n",
            "tensor([[1., 2., 3.],\n",
            "        [4., 5., 6.],\n",
            "        [7., 8., 9.]])\n",
            "torch.FloatTensor\n"
          ]
        }
      ]
    },
    {
      "cell_type": "markdown",
      "source": [
        "### **크기와 랭크(차원) 확인하기**\n",
        "- size()\n",
        "- shape()\n",
        "- ndimension()"
      ],
      "metadata": {
        "id": "gv4ZSf0Pr643"
      }
    },
    {
      "cell_type": "code",
      "source": [
        "x = torch.FloatTensor([[1,2,3],[4,5,6],[7,8,9]])\n",
        "y = torch.FloatTensor([[[1,2], [3,4]],[[1,2], [3,4]],[[1,2], [3,4]]])\n",
        "\n",
        "print(x.size())\n",
        "print(x.shape) # 더 자주 사용\n",
        "print(x.ndimension()) # 2차원\n",
        "print(y.ndimension()) # 3차원\n",
        "\n",
        "print(len(y.shape))"
      ],
      "metadata": {
        "colab": {
          "base_uri": "https://localhost:8080/"
        },
        "id": "cExJHbnu02Xi",
        "outputId": "1fe28004-1a52-4b8a-bb41-ebad9bc5833e"
      },
      "execution_count": 17,
      "outputs": [
        {
          "output_type": "stream",
          "name": "stdout",
          "text": [
            "torch.Size([3, 3])\n",
            "torch.Size([3, 3])\n",
            "2\n",
            "3\n",
            "3\n"
          ]
        }
      ]
    },
    {
      "cell_type": "markdown",
      "source": [
        "### **텐서 모양 바꾸기**\n",
        "* unsqueeze(x,i): tensor x에 i번째 차원 추가\n",
        "* squeeze(x): tensor x에서 크기가 1인 차원 제거\n",
        "* x.view([shape]): x를 [shape]의 모양으로 변환"
      ],
      "metadata": {
        "id": "docImfab2i2v"
      }
    },
    {
      "cell_type": "code",
      "source": [
        "x = torch.FloatTensor([[[1,2], [3,4]],[[1,2], [3,4]],[[1,2], [3,4]]])\n",
        "\n",
        "print(x.shape) # torch.Size([3, 2, 2])\n",
        "print(x)\n",
        "\n",
        "x0 = x.unsqueeze(0)\n",
        "print(x0)\n",
        "print(x0.shape) # torch.Size([1, 3, 2, 2])\n",
        "\n",
        "x1 = x0.squeeze() # or: torch.squeeze(x0)\n",
        "print(x1.shape) # torch.Size([3, 2, 2])"
      ],
      "metadata": {
        "colab": {
          "base_uri": "https://localhost:8080/"
        },
        "id": "aZnBjxs23ITu",
        "outputId": "d302df65-c2aa-414e-c93c-e6d8f97d5d5e"
      },
      "execution_count": null,
      "outputs": [
        {
          "output_type": "stream",
          "name": "stdout",
          "text": [
            "torch.Size([3, 2, 2])\n",
            "tensor([[[1., 2.],\n",
            "         [3., 4.]],\n",
            "\n",
            "        [[1., 2.],\n",
            "         [3., 4.]],\n",
            "\n",
            "        [[1., 2.],\n",
            "         [3., 4.]]])\n",
            "tensor([[[[1., 2.],\n",
            "          [3., 4.]],\n",
            "\n",
            "         [[1., 2.],\n",
            "          [3., 4.]],\n",
            "\n",
            "         [[1., 2.],\n",
            "          [3., 4.]]]])\n",
            "torch.Size([1, 3, 2, 2])\n",
            "torch.Size([3, 2, 2])\n"
          ]
        },
        {
          "output_type": "execute_result",
          "data": {
            "text/plain": [
              "tensor([[1., 2., 3., 4.],\n",
              "        [1., 2., 3., 4.],\n",
              "        [1., 2., 3., 4.]])"
            ]
          },
          "metadata": {},
          "execution_count": 31
        }
      ]
    },
    {
      "cell_type": "code",
      "source": [
        "x = torch.FloatTensor([[[1,2], [3,4]],[[1,2], [3,4]],[[1,2], [3,4]]])\n",
        "\n",
        "print(x.view(12))\n",
        "print(x.view(2,3,2))\n",
        "print(x.view(3,-1))"
      ],
      "metadata": {
        "colab": {
          "base_uri": "https://localhost:8080/"
        },
        "id": "HKskOYhVvR5N",
        "outputId": "bfccfc6e-b342-40db-a218-7cf32c1ffbbf"
      },
      "execution_count": 32,
      "outputs": [
        {
          "output_type": "stream",
          "name": "stdout",
          "text": [
            "tensor([1., 2., 3., 4., 1., 2., 3., 4., 1., 2., 3., 4.])\n",
            "tensor([[[1., 2.],\n",
            "         [3., 4.],\n",
            "         [1., 2.]],\n",
            "\n",
            "        [[3., 4.],\n",
            "         [1., 2.],\n",
            "         [3., 4.]]])\n",
            "tensor([[1., 2., 3., 4.],\n",
            "        [1., 2., 3., 4.],\n",
            "        [1., 2., 3., 4.]])\n"
          ]
        }
      ]
    },
    {
      "cell_type": "markdown",
      "source": [
        "### **행렬 연산**\n",
        "- wx + b\n",
        "- randn: 정규분포(Normal Distribution, 평균 0, 표준편차 1) 를 따르는 랜덤 값을 가지는 텐서 생성"
      ],
      "metadata": {
        "id": "hCET7nnn5l4x"
      }
    },
    {
      "cell_type": "code",
      "source": [
        "x = torch.FloatTensor([[1,2],[3,4],[5,6]])  # 3 x 2\n",
        "w = torch.randn(1,2, dtype=torch.float) # 1 x 2  ==> 2 x 1\n",
        "b = torch.randn(3,1, dtype=torch.float)\n",
        "\n",
        "print(x @ w.T + b)\n",
        "# torch.mm(x, w.T) --> matrix multiplication\n",
        "# torch.t(w) == w.T\n",
        "# x @ w.T"
      ],
      "metadata": {
        "colab": {
          "base_uri": "https://localhost:8080/"
        },
        "id": "f4mNV2os5pVk",
        "outputId": "84369dc5-a60b-4bec-9f03-d91d6fc93dd7"
      },
      "execution_count": null,
      "outputs": [
        {
          "output_type": "stream",
          "name": "stdout",
          "text": [
            "tensor([[ -6.1258],\n",
            "        [-12.7275],\n",
            "        [-17.1558]])\n"
          ]
        }
      ]
    },
    {
      "cell_type": "markdown",
      "source": [
        "- Autograd: 기울기 계산\n",
        " - requires_grad 값이 설정된 tensor에 대해서, pytorch는 자동으로 기울기를 계산해줌."
      ],
      "metadata": {
        "id": "D1EoT6KW6mms"
      }
    },
    {
      "cell_type": "code",
      "source": [
        "w = torch.tensor(4.0, requires_grad=True)\n",
        "a = w*3\n",
        "l = a**2\n",
        "l.backward()\n",
        "print(w.grad)"
      ],
      "metadata": {
        "colab": {
          "base_uri": "https://localhost:8080/"
        },
        "id": "O1aYTrDm6nSC",
        "outputId": "d6fa5c79-e0fe-409a-9d92-83ee732934b3"
      },
      "execution_count": 34,
      "outputs": [
        {
          "output_type": "stream",
          "name": "stdout",
          "text": [
            "tensor(72.)\n"
          ]
        }
      ]
    },
    {
      "cell_type": "markdown",
      "source": [
        "- 참고\n",
        "\n",
        " - **연산 추적 시작 (requires_grad=True)**\n",
        "   - 텐서가 `requires_grad=True`이면, 그 텐서에 대해 이루어진 모든 연산이 기록된다. 이때 PyTorch는 자동으로 각 연산에 대한 Function 객체를 생성한다.\n",
        "  - **Computation Graph구축**\n",
        "   - 연산이 일어날 때마다 PyTorch는 각 결과 텐서에 grad_fn (gradient function) 속성을 부여한다.\n",
        " - **역전파 (backward) 호출 시**\n",
        "   - `.backward()`를 호출하면 PyTorch는 출력 노드부터 시작해 계산 그래프를 거꾸로 따라가며 체인 룰(chain rule) 로 미분을 계산한다.\n",
        " - **기울기 저장**\n",
        "   - 모든 텐서 중 `requires_grad=True`로 설정된 텐서는 .grad 속성에 그에 대한 미분 결과(기울기) 가 저장된다.\n"
      ],
      "metadata": {
        "id": "q99yISpCyiGh"
      }
    },
    {
      "cell_type": "markdown",
      "source": [
        "## **Linear Regression with Pytorch**"
      ],
      "metadata": {
        "id": "6Txv9j9G7tkj"
      }
    },
    {
      "cell_type": "code",
      "source": [
        "import torch\n",
        "\n",
        "# Find this function: y = 2*x1 + 3*x2 - 4\n",
        "x_train = torch.FloatTensor([[1,2], [3,2], [3,7], [1,1], [1,0]])\n",
        "y_train = torch.FloatTensor([[4], [8], [23], [1], [-2]])\n",
        "\n",
        "w = torch.randn(2,1)\n",
        "b = torch.randn(1)\n",
        "lr = 0.01\n",
        "\n",
        " # w, b값 찾기\n",
        "for epoch in range(3000):\n",
        "  w.requires_grad_(True)\n",
        "  b.requires_grad_(True) # 이렇게 안에 넣어야하는 이유??\n",
        "\n",
        "  h = x_train @ w + b\n",
        "  cost = ((h - y_train)**2).mean()\n",
        "\n",
        "  cost.backward()\n",
        "\n",
        "  # 경사하강법 (미분x)\n",
        "  with torch.no_grad():\n",
        "    w = w - lr * w.grad\n",
        "    b = b - lr * b.grad\n",
        "\n",
        "    if epoch % 100 == 0:\n",
        "      print(epoch, cost.item(), w.squeeze(), b)"
      ],
      "metadata": {
        "colab": {
          "base_uri": "https://localhost:8080/"
        },
        "id": "dvfcNf-tL3z_",
        "outputId": "8fe31842-e43d-4f88-c98c-86685f2eb571"
      },
      "execution_count": 37,
      "outputs": [
        {
          "output_type": "stream",
          "name": "stdout",
          "text": [
            "0 51.93864822387695 tensor([0.0564, 1.5065]) tensor([1.3564])\n",
            "100 2.5828635692596436 tensor([0.1448, 3.2480]) tensor([-0.5878])\n",
            "200 1.2982046604156494 tensor([0.5731, 3.2483]) tensor([-1.6208])\n",
            "300 0.6667962074279785 tensor([0.9661, 3.1860]) tensor([-2.3020])\n",
            "400 0.3426740765571594 tensor([1.2576, 3.1342]) tensor([-2.7836])\n",
            "500 0.17610636353492737 tensor([1.4676, 3.0963]) tensor([-3.1281])\n",
            "600 0.0905044674873352 tensor([1.6183, 3.0691]) tensor([-3.3750])\n",
            "700 0.046511828899383545 tensor([1.7264, 3.0495]) tensor([-3.5519])\n",
            "800 0.023903314024209976 tensor([1.8039, 3.0355]) tensor([-3.6788])\n",
            "900 0.0122844148427248 tensor([1.8594, 3.0255]) tensor([-3.7697])\n",
            "1000 0.00631310697644949 tensor([1.8992, 3.0182]) tensor([-3.8349])\n",
            "1100 0.003244437975808978 tensor([1.9277, 3.0131]) tensor([-3.8817])\n",
            "1200 0.0016673619393259287 tensor([1.9482, 3.0094]) tensor([-3.9152])\n",
            "1300 0.0008568911580368876 tensor([1.9629, 3.0067]) tensor([-3.9392])\n",
            "1400 0.0004403713974170387 tensor([1.9734, 3.0048]) tensor([-3.9564])\n",
            "1500 0.0002263035421492532 tensor([1.9809, 3.0035]) tensor([-3.9687])\n",
            "1600 0.00011630274821072817 tensor([1.9863, 3.0025]) tensor([-3.9776])\n",
            "1700 5.977482214802876e-05 tensor([1.9902, 3.0018]) tensor([-3.9839])\n",
            "1800 3.071850005653687e-05 tensor([1.9930, 3.0013]) tensor([-3.9885])\n",
            "1900 1.5786408766871318e-05 tensor([1.9950, 3.0009]) tensor([-3.9917])\n",
            "2000 8.113802323350683e-06 tensor([1.9964, 3.0007]) tensor([-3.9941])\n",
            "2100 4.169702151557431e-06 tensor([1.9974, 3.0005]) tensor([-3.9958])\n",
            "2200 2.143618985428475e-06 tensor([1.9981, 3.0003]) tensor([-3.9970])\n",
            "2300 1.1019994872185634e-06 tensor([1.9987, 3.0002]) tensor([-3.9978])\n",
            "2400 5.666166202900058e-07 tensor([1.9990, 3.0002]) tensor([-3.9984])\n",
            "2500 2.9101016707500094e-07 tensor([1.9993, 3.0001]) tensor([-3.9989])\n",
            "2600 1.4976617990214436e-07 tensor([1.9995, 3.0001]) tensor([-3.9992])\n",
            "2700 7.723847517127069e-08 tensor([1.9996, 3.0001]) tensor([-3.9994])\n",
            "2800 3.9827991571428356e-08 tensor([1.9997, 3.0000]) tensor([-3.9996])\n",
            "2900 2.0480683815549128e-08 tensor([1.9998, 3.0000]) tensor([-3.9997])\n"
          ]
        }
      ]
    },
    {
      "cell_type": "code",
      "source": [
        "# 예측하기\n",
        "x_test = torch.FloatTensor([[5,10], [2,7]])\n",
        "y_test = x_test @ w + b\n",
        "print(y_test) # 약 36, 21"
      ],
      "metadata": {
        "colab": {
          "base_uri": "https://localhost:8080/"
        },
        "id": "Pii6EOdk2Cte",
        "outputId": "7f0175ae-81af-4561-fa82-81fc01cdb41d"
      },
      "execution_count": 39,
      "outputs": [
        {
          "output_type": "stream",
          "name": "stdout",
          "text": [
            "tensor([[35.9998],\n",
            "        [21.0001]])\n"
          ]
        }
      ]
    },
    {
      "cell_type": "markdown",
      "source": [
        "## **Linear Regression with Scikit-learn**\n",
        "\n",
        "### Python의 대표 머신러닝 라이브러리"
      ],
      "metadata": {
        "id": "xS6kDmC1OJ-U"
      }
    },
    {
      "cell_type": "code",
      "source": [
        "from sklearn.linear_model import LinearRegression\n",
        "\n",
        "x = [[1,2], [3,2], [3,7], [1,1], [1,0]]\n",
        "y = [[4], [8], [23], [1], [-2]]\n",
        "\n",
        "lr = LinearRegression() # 모델 생성\n",
        "lr.fit(x, y) # 학습 (피팅)\n",
        "\n",
        "print(lr.coef_, lr.intercept_)"
      ],
      "metadata": {
        "colab": {
          "base_uri": "https://localhost:8080/"
        },
        "id": "5JbJRl2fOfzY",
        "outputId": "c5172bb5-a5d9-407c-bd17-4fee5d8b0310"
      },
      "execution_count": 41,
      "outputs": [
        {
          "output_type": "stream",
          "name": "stdout",
          "text": [
            "[[2. 3.]] [-4.]\n"
          ]
        }
      ]
    },
    {
      "cell_type": "code",
      "source": [
        "# 예측하기\n",
        "x_test = [[5,10]]\n",
        "\n",
        "y_test = lr.predict(x_test)\n",
        "print(y_test)"
      ],
      "metadata": {
        "colab": {
          "base_uri": "https://localhost:8080/"
        },
        "id": "yT53UVe-2T7v",
        "outputId": "01d4af73-4b30-4d19-ef2e-ef08a757d10a"
      },
      "execution_count": 42,
      "outputs": [
        {
          "output_type": "stream",
          "name": "stdout",
          "text": [
            "[[36.]]\n"
          ]
        }
      ]
    }
  ]
}