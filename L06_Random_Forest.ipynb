{
  "nbformat": 4,
  "nbformat_minor": 0,
  "metadata": {
    "colab": {
      "provenance": [],
      "authorship_tag": "ABX9TyMdFyxKSDlJzu/Opgd2qO6i",
      "include_colab_link": true
    },
    "kernelspec": {
      "name": "python3",
      "display_name": "Python 3"
    },
    "language_info": {
      "name": "python"
    }
  },
  "cells": [
    {
      "cell_type": "markdown",
      "metadata": {
        "id": "view-in-github",
        "colab_type": "text"
      },
      "source": [
        "<a href=\"https://colab.research.google.com/github/clustering-jun/KMU-Data_Science/blob/main/L06_Random_Forest.ipynb\" target=\"_parent\"><img src=\"https://colab.research.google.com/assets/colab-badge.svg\" alt=\"Open In Colab\"/></a>"
      ]
    },
    {
      "cell_type": "markdown",
      "source": [
        "# **Random Forest Practice**"
      ],
      "metadata": {
        "id": "xXLCvW1WzmSa"
      }
    },
    {
      "cell_type": "markdown",
      "source": [
        "## **Titanic - Kaggle Competition**\n",
        "- Titanic - Machine Learning from Disaster\n",
        " - https://www.kaggle.com/competitions/titanic\n",
        "\n",
        " - 타이타닉호 탑승자 정보로부터 생존 여부를 예측하는 대회\n",
        "\n",
        "<br>\n",
        "\n",
        "- Titanic Dataset\n",
        " - Survival - 생존 여부 (0-사망 / 1-생존)\n",
        " - Pclass - 티켓등급 (1/2/3)\n",
        " - Sex - 성별 (male, female)\n",
        " - Age - 나이\n",
        " - Sibsp - 타이타닉호에 승선한 형제/배우자 수\n",
        " - Parch - 타이타닉호에 승선한 부모/자녀 수\n",
        " - Ticket - 티켓 번호\n",
        " - Fare - 탑승 요금\n",
        " - cabin - 객실 번호\n",
        " - embarked - 출항지 (C/Q/S)\n",
        "   - C = Cherbourg, Q = Queenstown, S = Southamptonc"
      ],
      "metadata": {
        "id": "YGTHtkppzxRq"
      }
    },
    {
      "cell_type": "markdown",
      "source": [
        "### **데이터 전처리**\n",
        "- Age 열의 결측치를 평균값으로 채우기\n",
        "- 사용할 특징 추출\n",
        "- pd.get_dummies: one-hot encoding 데이터 변환\n",
        " - drop_first: 첫 번째 class를 제거 (중복 방지를 위해)"
      ],
      "metadata": {
        "id": "vCNNux2I6_yM"
      }
    },
    {
      "cell_type": "code",
      "source": [
        "import pandas as pd\n",
        "\n",
        "train = pd.read_csv('train.csv')\n",
        "\n",
        "train['Age'] = train['Age'].fillna(train['Age'].mean())\n",
        "\n",
        "features = ['Pclass', 'Sex', 'Age', 'SibSp', 'Parch', 'Fare', 'Embarked']\n",
        "\n",
        "X = pd.get_dummies(train[features], drop_first=True).values\n",
        "y = train['Survived'].values"
      ],
      "metadata": {
        "collapsed": true,
        "id": "bKJfQSGBAEto"
      },
      "execution_count": 17,
      "outputs": []
    },
    {
      "cell_type": "markdown",
      "source": [
        "### **RandomForestClassifier**\n",
        "- n_estimators: Decision Tree 수\n",
        "- max_depth: 각 Decision Tree의 최대 깊이\n",
        "- max_features: random features selection 수\n",
        "- max_samples: bootstrap sampling에서 각 sample 수"
      ],
      "metadata": {
        "id": "8K132BP6AZ_K"
      }
    },
    {
      "cell_type": "markdown",
      "source": [
        "### **fit()**\n",
        "- Training data로부터 Bootstrap Sampling을 수행하여 Decision Tree들을 생성\n",
        "- `np.random.choice(n, m, replace=True)`: 0 ~ n-1 사이에서 m개의 sample을 추출하여 array 생성\n",
        " - replace=True: 복원추출"
      ],
      "metadata": {
        "id": "-n-nnUfOAeCg"
      }
    },
    {
      "cell_type": "markdown",
      "source": [
        "### **predict()**\n",
        "- 입력 데이터 X에 대해서, 각 estimator마다 예측 결과를 생성 후, voting 방식으로 최종 예측 생성"
      ],
      "metadata": {
        "id": "kL_h-l6g5OBX"
      }
    },
    {
      "cell_type": "code",
      "source": [
        "from sklearn.tree import DecisionTreeClassifier\n",
        "import numpy as np\n",
        "\n",
        "class RandomForestClassifier:\n",
        "    def __init__(self, n_estimators=100, max_depth=None, max_features='sqrt', max_samples=None):\n",
        "        self.n_estimators = n_estimators\n",
        "        self.max_depth = max_depth\n",
        "        self.max_features = max_features\n",
        "        self.max_samples = max_samples\n",
        "        self.estimators = []\n",
        "\n",
        "        for _ in range(n_estimators):\n",
        "            dt = DecisionTreeClassifier(max_depth=self.max_depth, max_features=self.max_features)\n",
        "            self.estimators.append(dt)\n",
        "\n",
        "\n",
        "\n",
        "    def fit(self, X, y):\n",
        "        for i in range(self.n_estimators):\n",
        "            X_sample, y_sample = self.sample(X, y)\n",
        "            self.estimators[i].fit(X_sample, y_sample)\n",
        "\n",
        "\n",
        "\n",
        "    def sample(self, X, y):\n",
        "        if self.max_samples is None:\n",
        "            n_samples = X.shape[0]\n",
        "        else:\n",
        "            n_samples = min(self.max_samples, X.shape[0])\n",
        "\n",
        "        indices = np.random.choice(X.shape[0], n_samples, replace=True)\n",
        "        return X[indices], y[indices]\n",
        "\n",
        "\n",
        "    # np.apply_along_axis 로도 구현 가능함.\n",
        "    def predict(self, X):\n",
        "        all_predictions = np.zeros((self.n_estimators, X.shape[0]), dtype=np.int64)\n",
        "\n",
        "        for i in range(self.n_estimators):\n",
        "            all_predictions[i] = self.estimators[i].predict(X)\n",
        "\n",
        "        return np.array([np.bincount(all_predictions[:, i]).argmax() \\\n",
        "                                for i in range(X.shape[0])])\n"
      ],
      "metadata": {
        "id": "W-rlt1XfAb7k"
      },
      "execution_count": 23,
      "outputs": []
    },
    {
      "cell_type": "code",
      "source": [
        "rf = RandomForestClassifier(n_estimators=50, max_depth=10)\n",
        "rf.fit(X, y)"
      ],
      "metadata": {
        "id": "MEYQavxT7_lB"
      },
      "execution_count": 33,
      "outputs": []
    },
    {
      "cell_type": "code",
      "source": [
        "print(f'Training accuracy: {round((rf.predict(X) == y).mean(), 2)}%')"
      ],
      "metadata": {
        "colab": {
          "base_uri": "https://localhost:8080/"
        },
        "id": "uT6Zxd119DfW",
        "outputId": "8b2724bc-6c1d-4d80-f356-ddcafb09cd0c"
      },
      "execution_count": 34,
      "outputs": [
        {
          "output_type": "stream",
          "name": "stdout",
          "text": [
            "Training accuracy: 0.92%\n"
          ]
        }
      ]
    },
    {
      "cell_type": "markdown",
      "source": [
        "## **Random Forests with Scikit-learn**\n",
        "- `oob_score`: Bootstrap sampling에 의해 추출되지 않은 데이터로 정확도를 측정 (out of bag)\n",
        "- min_samples_split: Decision Tree에서 노드를 분할할 때 필요한 최소 샘플 수\n",
        "- Parameter setting guide: https://scikit-learn.org/stable/modules/ensemble.html#parameter"
      ],
      "metadata": {
        "id": "5qJ1rhoqGUe1"
      }
    },
    {
      "cell_type": "code",
      "source": [
        "from sklearn.ensemble import RandomForestClassifier\n",
        "\n",
        "rf = RandomForestClassifier(n_estimators=80, max_samples=0.8, max_depth=None, min_samples_split=20,\n",
        "                            max_features=4, oob_score=True)\n",
        "\n",
        "rf.fit(X, y)\n",
        "\n",
        "print('train accuracy:', ((y==rf.predict(X)).mean()))\n",
        "print('out-of-bag score:', rf.oob_score_)"
      ],
      "metadata": {
        "colab": {
          "base_uri": "https://localhost:8080/"
        },
        "id": "VGq9zsXXOasG",
        "outputId": "fc975ea4-3e45-4d26-ee1c-0fe00f4c4ca1"
      },
      "execution_count": 60,
      "outputs": [
        {
          "output_type": "stream",
          "name": "stdout",
          "text": [
            "train accuracy: 0.8731762065095399\n",
            "out-of-bag score: 0.8260381593714927\n"
          ]
        }
      ]
    },
    {
      "cell_type": "code",
      "source": [
        "import pandas as pd\n",
        "\n",
        "test = pd.read_csv('test.csv')\n",
        "\n",
        "test['Age'] = test['Age'].fillna(train['Age'].mean())\n",
        "\n",
        "features = ['Pclass', 'Sex', 'Age', 'SibSp', 'Parch', 'Fare', 'Embarked']\n",
        "\n",
        "X_test = pd.get_dummies(test[features], drop_first=True).values\n",
        "\n",
        "y_test = rf.predict(X_test)"
      ],
      "metadata": {
        "id": "3GZ5wynCBfw6"
      },
      "execution_count": 62,
      "outputs": []
    },
    {
      "cell_type": "code",
      "source": [
        "with open('rf_result.csv', 'w') as f:\n",
        "    f.write('PassengerId,Survived\\n')\n",
        "    for pid, survied in zip(test['PassengerId'].values, y_test):\n",
        "        f.write(f'{pid},{survied}\\n')"
      ],
      "metadata": {
        "id": "MhkGeGvnB8Np"
      },
      "execution_count": 63,
      "outputs": []
    }
  ]
}