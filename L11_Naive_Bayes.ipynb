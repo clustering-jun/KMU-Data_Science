{
  "nbformat": 4,
  "nbformat_minor": 0,
  "metadata": {
    "colab": {
      "provenance": [],
      "authorship_tag": "ABX9TyNLVEGMTXopYgLd+KSAhR4P",
      "include_colab_link": true
    },
    "kernelspec": {
      "name": "python3",
      "display_name": "Python 3"
    },
    "language_info": {
      "name": "python"
    }
  },
  "cells": [
    {
      "cell_type": "markdown",
      "metadata": {
        "id": "view-in-github",
        "colab_type": "text"
      },
      "source": [
        "<a href=\"https://colab.research.google.com/github/clustering-jun/KMU-Data_Science/blob/main/L11_Naive_Bayes.ipynb\" target=\"_parent\"><img src=\"https://colab.research.google.com/assets/colab-badge.svg\" alt=\"Open In Colab\"/></a>"
      ]
    },
    {
      "cell_type": "markdown",
      "source": [
        "# **Naive Bayes Practice**"
      ],
      "metadata": {
        "id": "xXLCvW1WzmSa"
      }
    },
    {
      "cell_type": "markdown",
      "source": [
        "## **SMS 스팸 데이터**\n",
        "- 문자메시지 데이터\n",
        "- spam과 ham으로 분류\n",
        "\n",
        "- https://archive.ics.uci.edu/dataset/228/sms+spam+collection"
      ],
      "metadata": {
        "id": "YGTHtkppzxRq"
      }
    },
    {
      "cell_type": "code",
      "source": [
        "!wget https://archive.ics.uci.edu/static/public/228/sms+spam+collection.zip\n",
        "!unzip sms+spam+collection.zip"
      ],
      "metadata": {
        "id": "7IuteK_VSF9J",
        "colab": {
          "base_uri": "https://localhost:8080/"
        },
        "outputId": "4e279b3c-bb5c-4549-8695-7f9587545c24"
      },
      "execution_count": 1,
      "outputs": [
        {
          "output_type": "stream",
          "name": "stdout",
          "text": [
            "--2025-08-09 13:19:29--  https://archive.ics.uci.edu/static/public/228/sms+spam+collection.zip\n",
            "Resolving archive.ics.uci.edu (archive.ics.uci.edu)... 128.195.10.252\n",
            "Connecting to archive.ics.uci.edu (archive.ics.uci.edu)|128.195.10.252|:443... connected.\n",
            "HTTP request sent, awaiting response... 200 OK\n",
            "Length: unspecified\n",
            "Saving to: ‘sms+spam+collection.zip’\n",
            "\n",
            "sms+spam+collection     [             <=>    ] 198.65K  50.0KB/s    in 4.0s    \n",
            "\n",
            "2025-08-09 13:19:34 (50.0 KB/s) - ‘sms+spam+collection.zip’ saved [203415]\n",
            "\n",
            "Archive:  sms+spam+collection.zip\n",
            "  inflating: SMSSpamCollection       \n",
            "  inflating: readme                  \n"
          ]
        }
      ]
    },
    {
      "cell_type": "markdown",
      "source": [
        "## **데이터 전처리**\n",
        "- SMS을 Bag-of-Words 형태로 변환\n",
        "- train, test 데이터 분리"
      ],
      "metadata": {
        "id": "_tZ0eXWIHorZ"
      }
    },
    {
      "cell_type": "code",
      "source": [
        "import re\n",
        "import random\n",
        "\n",
        "data = []\n",
        "\n",
        "with open('SMSSpamCollection', 'r') as f:\n",
        "    for line in f:\n",
        "        label, txt = line.split('\\t')\n",
        "        bow = set(re.findall('[a-z0-9_]+', txt.lower()))\n",
        "        data.append( (label, bow) )\n",
        "\n",
        "random.shuffle(data)\n",
        "\n",
        "n_train = int(len(data) * 0.8)\n",
        "\n",
        "train = data[:n_train]\n",
        "test = data[n_train:]"
      ],
      "metadata": {
        "id": "AH6d8hMGky4N"
      },
      "execution_count": 2,
      "outputs": []
    },
    {
      "cell_type": "markdown",
      "source": [
        "## **데이터 나누기 / 사전확률 구하기**\n",
        "- Train 데이터에서 Spam와 Ham 구분하기\n",
        "- 스팸 메시지와 일반 메시지의 개수를 세어 사전확률 구하기(로그적용)"
      ],
      "metadata": {
        "id": "koU2tF_jonOd"
      }
    },
    {
      "cell_type": "code",
      "source": [
        "import math\n",
        "\n",
        "alpha = 1e-4\n",
        "\n",
        "n_ham = sum(1 for label, bow in train if label == 'ham')\n",
        "n_spam = sum(1 for label, bow in train if label == 'spam')\n",
        "\n",
        "prior_ham = math.log((n_ham + alpha) / (n_train + 2*alpha))\n",
        "prior_spam = math.log((n_spam + alpha) / (n_train + 2*alpha))"
      ],
      "metadata": {
        "id": "LZn2Pbr8oST0"
      },
      "execution_count": 3,
      "outputs": []
    },
    {
      "cell_type": "markdown",
      "source": [
        "## **Word Count**\n",
        "- 각 단어별로 몇 개의 스팸 메시지와 일반 메시지에 등장했는지 세기\n",
        "- Counter 써도 됨.\n",
        "\n",
        "```\n",
        "spam_words = Counter(word for bow in train_spam for word in bow)\n",
        "ham_words = Counter(word for bow in train_ham for word in bow)\n",
        "\n",
        "```\n",
        "\n"
      ],
      "metadata": {
        "id": "TBQhc1EZqtI7"
      }
    },
    {
      "cell_type": "code",
      "source": [
        "# 단어 w의 spam일 가능도 = P(w|spam) = log( (w를 포함하는 스팸수 + a) / (스팸 수 + a) )\n",
        "\n",
        "from collections import defaultdict\n",
        "\n",
        "words_ham = defaultdict(lambda : 0)\n",
        "words_spam = defaultdict(lambda : 0)\n",
        "\n",
        "for label, bow in train:\n",
        "    for word in bow:\n",
        "        if label == 'spam':\n",
        "            words_spam[word] += 1\n",
        "        else:\n",
        "            words_ham[word] += 1\n",
        "\n",
        "like_ham = defaultdict(lambda : math.log(alpha / (n_ham + alpha)))\n",
        "like_spam = defaultdict(lambda : math.log(alpha / (n_spam + alpha)))\n",
        "\n",
        "for word, cnt in words_ham.items():\n",
        "    like_ham[word] = math.log( (cnt + alpha) / (n_ham + alpha) )\n",
        "\n",
        "for word, cnt in words_spam.items():\n",
        "    like_spam[word] = math.log( (cnt + alpha) / (n_spam + alpha) )"
      ],
      "metadata": {
        "id": "CxJl3TpQp4bp"
      },
      "execution_count": 4,
      "outputs": []
    },
    {
      "cell_type": "code",
      "source": [
        "sorted(like_spam.items(), key = lambda x: x[1], reverse=True)[30:45]"
      ],
      "metadata": {
        "colab": {
          "base_uri": "https://localhost:8080/"
        },
        "id": "cDQI6iPrs7Or",
        "outputId": "9ea1e0ef-0b54-45f9-ccbe-b2602372e89c"
      },
      "execution_count": 5,
      "outputs": [
        {
          "output_type": "execute_result",
          "data": {
            "text/plain": [
              "[('reply', -2.1282304473468723),\n",
              " ('our', -2.142619164095068),\n",
              " ('prize', -2.172033006039474),\n",
              " ('just', -2.233590804274779),\n",
              " ('only', -2.249591120019623),\n",
              " ('are', -2.249591120019623),\n",
              " ('send', -2.282380889079261),\n",
              " ('s', -2.2991879791471024),\n",
              " ('no', -2.3162823832837756),\n",
              " ('won', -2.3162823832837756),\n",
              " ('t', -2.3336740957476634),\n",
              " ('150p', -2.3336740957476634),\n",
              " ('in', -2.3693921145540036),\n",
              " ('uk', -2.406433317623845),\n",
              " ('new', -2.406433317623845)]"
            ]
          },
          "metadata": {},
          "execution_count": 5
        }
      ]
    },
    {
      "cell_type": "markdown",
      "source": [
        "## **Predict()**\n",
        "- naive bayes 방법에 따라 spam/ham 점수를 구하여 비교\n",
        "- 라플라스 스무딩 적용\n",
        "- 로그 합산"
      ],
      "metadata": {
        "id": "iT2HImNtrCX5"
      }
    },
    {
      "cell_type": "code",
      "source": [
        "def predict(bow):\n",
        "    ham_score = prior_ham\n",
        "    spam_score = prior_spam\n",
        "\n",
        "    for word in bow:\n",
        "        ham_score += like_ham[word]\n",
        "        spam_score += like_spam[word]\n",
        "\n",
        "    if ham_score > spam_score:\n",
        "        return 'ham'\n",
        "    else:\n",
        "        return 'spam'"
      ],
      "metadata": {
        "id": "w2ofSdAltaWA"
      },
      "execution_count": 6,
      "outputs": []
    },
    {
      "cell_type": "markdown",
      "source": [
        "## **Test**\n",
        "- Precision, Recall, F1 score, Accuracy"
      ],
      "metadata": {
        "id": "7KuNoxuLuMJw"
      }
    },
    {
      "cell_type": "code",
      "source": [
        "tp, tn, fp, fn  = 0, 0, 0, 0\n",
        "\n",
        "for label, bow in test:\n",
        "    result = predict(bow)\n",
        "    if result == 'spam' and label == 'spam':\n",
        "        tp += 1\n",
        "    elif result == 'spam' and label == 'ham':\n",
        "        fp += 1\n",
        "    elif result == 'ham' and label == 'spam':\n",
        "        fn += 1\n",
        "    elif result == 'ham' and label == 'ham':\n",
        "        tn += 1\n",
        "\n",
        "print(tp, tn, fp, fn)"
      ],
      "metadata": {
        "colab": {
          "base_uri": "https://localhost:8080/"
        },
        "id": "kdeWN_iPuEna",
        "outputId": "b6e52691-603a-4677-ffd0-a9d727ef691b"
      },
      "execution_count": 7,
      "outputs": [
        {
          "output_type": "stream",
          "name": "stdout",
          "text": [
            "154 933 23 5\n"
          ]
        }
      ]
    },
    {
      "cell_type": "code",
      "source": [
        "accuracy = (tn + tp) / (tp + tn + fp + fn)\n",
        "recall = tp / (tp + fn)\n",
        "precision = tp / (tp + fp)\n",
        "f1 = 2 * recall * precision / (recall + precision)\n",
        "\n",
        "print('accuracy:', accuracy)\n",
        "print('recall:', recall)\n",
        "print('precision:', precision)\n",
        "print('f1 score:', f1)"
      ],
      "metadata": {
        "colab": {
          "base_uri": "https://localhost:8080/"
        },
        "id": "9bIHrH-Wv9pI",
        "outputId": "32534d52-8923-4c1e-aabd-110f5bd01650"
      },
      "execution_count": 8,
      "outputs": [
        {
          "output_type": "stream",
          "name": "stdout",
          "text": [
            "accuracy: 0.9748878923766816\n",
            "recall: 0.9685534591194969\n",
            "precision: 0.8700564971751412\n",
            "f1 score: 0.9166666666666666\n"
          ]
        }
      ]
    },
    {
      "cell_type": "code",
      "source": [
        "import matplotlib.pyplot as plt\n",
        "import seaborn as sns\n",
        "import numpy as np\n",
        "\n",
        "conf_matrix = np.array([[tp, fp],\n",
        "                        [fn, tn]])\n",
        "\n",
        "plt.figure(figsize=(6,5))\n",
        "sns.heatmap(conf_matrix, annot=True, fmt='d', cmap='Blues',\n",
        "            xticklabels=['Predicted Spam', 'Predicted Ham'],\n",
        "            yticklabels=['Actual Spam', 'Actual Ham'])\n",
        "plt.xlabel('Prediction')\n",
        "plt.ylabel('Actual')\n",
        "plt.title('Confusion Matrix')\n",
        "plt.show()"
      ],
      "metadata": {
        "id": "o3wpeGNY_CQj",
        "outputId": "15e1987b-d23f-4f86-96a2-997a93d6f26c",
        "colab": {
          "base_uri": "https://localhost:8080/",
          "height": 487
        }
      },
      "execution_count": 10,
      "outputs": [
        {
          "output_type": "display_data",
          "data": {
            "text/plain": [
              "<Figure size 600x500 with 2 Axes>"
            ],
            "image/png": "[encoded data removed]"
          },
          "metadata": {}
        }
      ]
    }
  ]
}