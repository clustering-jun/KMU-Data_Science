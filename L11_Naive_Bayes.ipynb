{
  "nbformat": 4,
  "nbformat_minor": 0,
  "metadata": {
    "colab": {
      "provenance": [],
      "authorship_tag": "ABX9TyN45C4gfFW0AriNDsymCrlw",
      "include_colab_link": true
    },
    "kernelspec": {
      "name": "python3",
      "display_name": "Python 3"
    },
    "language_info": {
      "name": "python"
    }
  },
  "cells": [
    {
      "cell_type": "markdown",
      "metadata": {
        "id": "view-in-github",
        "colab_type": "text"
      },
      "source": [
        "<a href=\"https://colab.research.google.com/github/clustering-jun/KMU-Data_Science/blob/main/L11_Naive_Bayes.ipynb\" target=\"_parent\"><img src=\"https://colab.research.google.com/assets/colab-badge.svg\" alt=\"Open In Colab\"/></a>"
      ]
    },
    {
      "cell_type": "markdown",
      "source": [
        "# **Naive Bayes Practice**"
      ],
      "metadata": {
        "id": "xXLCvW1WzmSa"
      }
    },
    {
      "cell_type": "markdown",
      "source": [
        "## **SMS 스팸 데이터**\n",
        "- 문자메시지 데이터\n",
        "- spam과 ham으로 분류\n",
        "\n",
        "- https://archive.ics.uci.edu/dataset/228/sms+spam+collection"
      ],
      "metadata": {
        "id": "YGTHtkppzxRq"
      }
    },
    {
      "cell_type": "code",
      "source": [
        "!wget https://archive.ics.uci.edu/static/public/228/sms+spam+collection.zip\n",
        "!unzip sms+spam+collection.zip"
      ],
      "metadata": {
        "id": "7IuteK_VSF9J",
        "colab": {
          "base_uri": "https://localhost:8080/"
        },
        "outputId": "9116bd5e-0285-4640-f993-a298ebed32e0"
      },
      "execution_count": null,
      "outputs": [
        {
          "output_type": "stream",
          "name": "stdout",
          "text": [
            "--2025-08-09 11:24:28--  https://archive.ics.uci.edu/static/public/228/sms+spam+collection.zip\n",
            "Resolving archive.ics.uci.edu (archive.ics.uci.edu)... 128.195.10.252\n",
            "Connecting to archive.ics.uci.edu (archive.ics.uci.edu)|128.195.10.252|:443... connected.\n",
            "HTTP request sent, awaiting response... 200 OK\n",
            "Length: unspecified\n",
            "Saving to: ‘sms+spam+collection.zip’\n",
            "\n",
            "sms+spam+collection     [  <=>               ] 198.65K   823KB/s    in 0.2s    \n",
            "\n",
            "2025-08-09 11:24:29 (823 KB/s) - ‘sms+spam+collection.zip’ saved [203415]\n",
            "\n",
            "Archive:  sms+spam+collection.zip\n",
            "  inflating: SMSSpamCollection       \n",
            "  inflating: readme                  \n"
          ]
        }
      ]
    },
    {
      "cell_type": "markdown",
      "source": [
        "## **데이터 전처리**\n",
        "- SMS을 Bag-of-Words 형태로 변환\n",
        "- train, test 데이터 분리"
      ],
      "metadata": {
        "id": "_tZ0eXWIHorZ"
      }
    },
    {
      "cell_type": "code",
      "source": [
        "import re\n",
        "import random\n",
        "\n",
        "data = []\n",
        "\n",
        "with open('SMSSpamCollection', 'r') as f:\n",
        "    for line in f:\n",
        "        label, txt = line.split('\\t')\n",
        "        bow = set(re.findall('[a-z0-9_]+', txt.lower()))\n",
        "        data.append( (label, bow) )\n",
        "\n",
        "random.shuffle(data)\n",
        "\n",
        "n_train = int(len(data) * 0.8)\n",
        "\n",
        "train = data[:n_train]\n",
        "test = data[n_train:]"
      ],
      "metadata": {
        "id": "AH6d8hMGky4N"
      },
      "execution_count": null,
      "outputs": []
    },
    {
      "cell_type": "markdown",
      "source": [
        "## **데이터 나누기 / 사전확률 구하기**\n",
        "- Train 데이터에서 Spam와 Ham 구분하기\n",
        "- 스팸 메시지와 일반 메시지의 개수를 세어 사전확률 구하기(로그적용)"
      ],
      "metadata": {
        "id": "koU2tF_jonOd"
      }
    },
    {
      "cell_type": "code",
      "source": [
        "import math\n",
        "\n",
        "alpha = 1e-4\n",
        "\n",
        "n_ham = sum(1 for label, bow in train if label == 'ham')\n",
        "n_spam = sum(1 for label, bow in train if label == 'spam')\n",
        "\n",
        "prior_ham = math.log((n_ham + alpha) / (n_train + 2*alpha))\n",
        "prior_spam = math.log((n_spam + alpha) / (n_train + 2*alpha))"
      ],
      "metadata": {
        "id": "LZn2Pbr8oST0"
      },
      "execution_count": null,
      "outputs": []
    },
    {
      "cell_type": "markdown",
      "source": [
        "## **Word Count**\n",
        "- 각 단어별로 몇 개의 스팸 메시지와 일반 메시지에 등장했는지 세기\n",
        "- Counter 써도 됨.\n",
        "\n",
        "```\n",
        "# 코드로 형식 지정됨\n",
        "```\n",
        "\n"
      ],
      "metadata": {
        "id": "TBQhc1EZqtI7"
      }
    },
    {
      "cell_type": "code",
      "source": [
        "# 단어 w의 spam일 가능도 = P(w|spam) = log( (w를 포함하는 스팸수 + a) / (스팸 수 + a) )\n",
        "\n",
        "from collections import defaultdict\n",
        "\n",
        "\n",
        "words_ham = defaultdict(lambda : 0)\n",
        "words_spam = defaultdict(lambda : 0)\n",
        "\n",
        "for label, bow in train:\n",
        "    for word in bow:\n",
        "        if label == 'spam':\n",
        "            words_spam[word] += 1\n",
        "        else:\n",
        "            words_ham[word] += 1\n",
        "\n",
        "like_ham = defaultdict(lambda : math.log(alpha / (n_ham + alpha)))\n",
        "like_spam = defaultdict(lambda : math.log(alpha / (n_spam + alpha)))\n",
        "\n",
        "for word, cnt in words_ham.items():\n",
        "    like_ham[word] = math.log( (cnt + alpha) / (n_ham + alpha) )\n",
        "\n",
        "for word, cnt in words_spam.items():\n",
        "    like_spam[word] = math.log( (cnt + alpha) / (n_spam + alpha) )"
      ],
      "metadata": {
        "id": "CxJl3TpQp4bp"
      },
      "execution_count": null,
      "outputs": []
    },
    {
      "cell_type": "code",
      "source": [
        "sorted(like_spam.items(), key = lambda x: x[1], reverse=True)[30:45]"
      ],
      "metadata": {
        "colab": {
          "base_uri": "https://localhost:8080/"
        },
        "id": "cDQI6iPrs7Or",
        "outputId": "25d9bd15-ea73-4fdd-eaec-bc4e10c1f001"
      },
      "execution_count": null,
      "outputs": [
        {
          "output_type": "execute_result",
          "data": {
            "text/plain": [
              "[('get', -2.162307010847561),\n",
              " ('our', -2.162307010847561),\n",
              " ('only', -2.177122074683656),\n",
              " ('just', -2.1921599294340286),\n",
              " ('this', -2.2229315407523704),\n",
              " ('t', -2.2229315407523704),\n",
              " ('s', -2.254680188663805),\n",
              " ('no', -2.287469957723443),\n",
              " ('won', -2.287469957723443),\n",
              " ('are', -2.304277047791284),\n",
              " ('150p', -2.304277047791284),\n",
              " ('in', -2.304277047791284),\n",
              " ('new', -2.356462710162981),\n",
              " ('send', -2.3744811831981854),\n",
              " ('urgent', -2.4115223862680266)]"
            ]
          },
          "metadata": {},
          "execution_count": 42
        }
      ]
    },
    {
      "cell_type": "markdown",
      "source": [
        "## **Predict()**\n",
        "- naive bayes 방법에 따라 spam/ham 점수를 구하여 비교\n",
        "- 라플라스 스무딩 적용\n",
        "- 로그 합산"
      ],
      "metadata": {
        "id": "iT2HImNtrCX5"
      }
    },
    {
      "cell_type": "code",
      "source": [
        "def predict(bow):\n",
        "    ham_score = prior_ham\n",
        "    spam_score = prior_spam\n",
        "\n",
        "    for word in bow:\n",
        "        ham_score += like_ham[word]\n",
        "        spam_score += like_spam[word]\n",
        "\n",
        "    if ham_score > spam_score:\n",
        "        return 'ham'\n",
        "    else:\n",
        "        return 'spam'"
      ],
      "metadata": {
        "id": "w2ofSdAltaWA"
      },
      "execution_count": null,
      "outputs": []
    },
    {
      "cell_type": "markdown",
      "source": [
        "## **Test**\n",
        "- Precision, Recall, F1 score, Accuracy"
      ],
      "metadata": {
        "id": "7KuNoxuLuMJw"
      }
    },
    {
      "cell_type": "code",
      "source": [
        "tp, tn, fp, fn  = 0, 0, 0, 0\n",
        "\n",
        "for label, bow in test:\n",
        "    result = predict(bow)\n",
        "    if result == 'spam' and label == 'spam':\n",
        "        tp += 1\n",
        "    elif result == 'spam' and label == 'ham':\n",
        "        fp += 1\n",
        "    elif result == 'ham' and label == 'spam':\n",
        "        fn += 1\n",
        "    elif result == 'ham' and label == 'ham':\n",
        "        tn += 1\n",
        "\n",
        "print(tp, tn, fp, fn)"
      ],
      "metadata": {
        "colab": {
          "base_uri": "https://localhost:8080/"
        },
        "id": "kdeWN_iPuEna",
        "outputId": "565bc352-ec2c-4d4b-d235-792addb069ad"
      },
      "execution_count": null,
      "outputs": [
        {
          "output_type": "stream",
          "name": "stdout",
          "text": [
            "138 957 18 2\n"
          ]
        }
      ]
    },
    {
      "cell_type": "code",
      "source": [
        "accuracy = (tn + tp) / (tp + tn + fp + fn)\n",
        "recall = tp / (tp + fn)\n",
        "precision = tp / (tp + fp)\n",
        "f1 = 2 * recall * precision / (recall + precision)\n",
        "\n",
        "print('accuracy:', accuracy)\n",
        "print('recall:', recall)\n",
        "print('precision:', precision)\n",
        "print('f1 score:', f1)"
      ],
      "metadata": {
        "colab": {
          "base_uri": "https://localhost:8080/"
        },
        "id": "9bIHrH-Wv9pI",
        "outputId": "4ac6a138-9527-49c7-af30-4f02f348f77a"
      },
      "execution_count": null,
      "outputs": [
        {
          "output_type": "stream",
          "name": "stdout",
          "text": [
            "accuracy: 0.9820627802690582\n",
            "recall: 0.9857142857142858\n",
            "precision: 0.8846153846153846\n",
            "f1 score: 0.9324324324324325\n"
          ]
        }
      ]
    }
  ]
}