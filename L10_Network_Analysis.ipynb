{
  "nbformat": 4,
  "nbformat_minor": 0,
  "metadata": {
    "colab": {
      "provenance": [],
      "authorship_tag": "ABX9TyNftK8309Leb6xxLaMrb9g6",
      "include_colab_link": true
    },
    "kernelspec": {
      "name": "python3",
      "display_name": "Python 3"
    },
    "language_info": {
      "name": "python"
    }
  },
  "cells": [
    {
      "cell_type": "markdown",
      "metadata": {
        "id": "view-in-github",
        "colab_type": "text"
      },
      "source": [
        "<a href=\"https://colab.research.google.com/github/clustering-jun/KMU-Data_Science/blob/main/L10_Network_Analysis.ipynb\" target=\"_parent\"><img src=\"https://colab.research.google.com/assets/colab-badge.svg\" alt=\"Open In Colab\"/></a>"
      ]
    },
    {
      "cell_type": "markdown",
      "source": [
        "# **Network Analysis Practice**"
      ],
      "metadata": {
        "id": "xXLCvW1WzmSa"
      }
    },
    {
      "cell_type": "markdown",
      "source": [
        "## **Data**\n",
        "- Wikipedia 하이퍼링크 네트워크\n",
        " - 방향 그래프\n",
        " - 노드 수: 4,604\n",
        " - 간선 수: 119,882\n",
        "\n",
        "- https://snap.stanford.edu/data/wikispeedia.html\n",
        "\n",
        "```\n",
        "!wget https://snap.stanford.edu/data/wikispeedia/wikispeedia_paths-and-graph.tar.gz\n",
        "!tar xvfz wikispeedia_paths-and-graph.tar.gz\n",
        "```\n",
        "\n"
      ],
      "metadata": {
        "id": "YGTHtkppzxRq"
      }
    },
    {
      "cell_type": "code",
      "source": [
        "!wget https://snap.stanford.edu/data/wikispeedia/wikispeedia_paths-and-graph.tar.gz\n",
        "!tar xvfz wikispeedia_paths-and-graph.tar.gz"
      ],
      "metadata": {
        "id": "7IuteK_VSF9J"
      },
      "execution_count": null,
      "outputs": []
    },
    {
      "cell_type": "code",
      "source": [
        "!head -n 20 wikispeedia_paths-and-graph/articles.tsv # nodes\n",
        "!head -n 20 wikispeedia_paths-and-graph/links.tsv # edges"
      ],
      "metadata": {
        "id": "jjKDz65iDWuV"
      },
      "execution_count": null,
      "outputs": []
    },
    {
      "cell_type": "code",
      "source": [
        "from urllib.parse import unquote\n",
        "\n",
        "unquote('%C3%81ed%C3%A1n_mac_Gabr%C3%A1in')"
      ],
      "metadata": {
        "id": "Jr1-av-ODx73"
      },
      "execution_count": null,
      "outputs": []
    },
    {
      "cell_type": "markdown",
      "source": [
        "## **그래프 만들기**"
      ],
      "metadata": {
        "id": "_tZ0eXWIHorZ"
      }
    },
    {
      "cell_type": "code",
      "source": [
        "import networkx as nx\n",
        "from urllib.parse import unquote\n",
        "\n",
        "G = nx.DiGraph()\n",
        "\n",
        "for line in open('wikispeedia_paths-and-graph/articles.tsv', 'r'):\n",
        "    line = line.strip()\n",
        "    if line == \"\" or line[0] == '#':\n",
        "        continue\n",
        "\n",
        "    G.add_node(unquote(line))\n",
        "\n",
        "for line in open('wikispeedia_paths-and-graph/links.tsv', 'r'):\n",
        "    line = line.strip()\n",
        "    if line == \"\" or line[0] == '#':\n",
        "        continue\n",
        "\n",
        "    u,v = line.split()\n",
        "    u = unquote(u)\n",
        "    v = unquote(v)\n",
        "\n",
        "    G.add_edge(u, v)"
      ],
      "metadata": {
        "id": "pSk6r5ROEIhN"
      },
      "execution_count": null,
      "outputs": []
    },
    {
      "cell_type": "code",
      "source": [
        "n_nodes = len(G.nodes) # node의 개수\n",
        "n_edges = len(G.edges()) # edge의 개수\n",
        "\n",
        "# density\n",
        "density = nx.density(G)\n",
        "density1 = n_edges / (n_nodes * (n_nodes-1))\n",
        "\n",
        "# triangles\n",
        "triangles = sum(nx.triangles(G.to_undirected()).values()) // 3\n",
        "\n",
        "\n",
        "print('n_nodes:', n_nodes)\n",
        "print('n_edges:', n_edges)\n",
        "print('density:', density)\n",
        "print('triangles:', triangles)"
      ],
      "metadata": {
        "id": "LjTTqW63FCMg"
      },
      "execution_count": null,
      "outputs": []
    },
    {
      "cell_type": "markdown",
      "source": [
        "## **Centrality 계산**"
      ],
      "metadata": {
        "id": "dyIKeiRAHsxF"
      }
    },
    {
      "cell_type": "code",
      "source": [
        "degree = nx.degree_centrality(G)\n",
        "indegree = nx.in_degree_centrality(G)\n",
        "outdegree = nx.out_degree_centrality(G)\n",
        "betweenness = nx.betweenness_centrality(G, 200)\n",
        "closeness = nx.closeness_centrality(G)\n",
        "pagerank = nx.pagerank(G)\n",
        "clustering = nx.clustering(G)\n",
        "triangles = nx.triangles(G.to_undirected())\n",
        "\n",
        "print(degree)\n",
        "print(indegree)\n",
        "print(outdegree)\n",
        "print(betweenness)\n",
        "print(closeness)\n",
        "print(pagerank)\n",
        "print(clustering)\n",
        "print(triangles)\n",
        "\n",
        "# 더 큰 그래프로 가면 연산량이 너무 많고 python은 느리기 때문에 C++이나 Java를 사용함\n",
        "# Java 라이브러리- neo4j를 사용하거나, 직접 구현"
      ],
      "metadata": {
        "id": "BeH1i3i6HwKh"
      },
      "execution_count": null,
      "outputs": []
    },
    {
      "cell_type": "code",
      "source": [
        "print('Deg Rank')\n",
        "for line in sorted(degree.items(), key = lambda x:-x[1])[:10]:\n",
        "    print(line)\n",
        "\n",
        "print('\\nIn-Deg Rank')\n",
        "for line in sorted(indegree.items(), key = lambda x:-x[1])[:10]:\n",
        "    print(line)\n",
        "\n",
        "print('\\nOut-Deg Rank')\n",
        "for line in sorted(outdegree.items(), key = lambda x:-x[1])[:10]:\n",
        "    print(line)\n",
        "\n",
        "print('\\nBetweenness Rank')\n",
        "for line in sorted(betweenness.items(), key = lambda x:-x[1])[:10]:\n",
        "    print(line)\n",
        "\n",
        "print('\\nCloseness Rank')\n",
        "for line in sorted(closeness.items(), key = lambda x:-x[1])[:10]:\n",
        "    print(line)\n",
        "\n",
        "print('\\nPageRank Rank')\n",
        "for line in sorted(pagerank.items(), key = lambda x:-x[1])[:10]:\n",
        "    print(line)\n",
        "\n",
        "print('\\nClustering Rank')\n",
        "for line in sorted(clustering.items(), key = lambda x:-x[1])[:10]:\n",
        "    print(line)\n",
        "\n",
        "print('\\nTriangles Rank')\n",
        "for line in sorted(triangles.items(), key = lambda x:-x[1])[:10]:\n",
        "    print(line)"
      ],
      "metadata": {
        "id": "FTHkqU6SJiji"
      },
      "execution_count": null,
      "outputs": []
    },
    {
      "cell_type": "markdown",
      "source": [
        "## **Centrality 사이의 관계 분석**\n",
        "- 각 centrality 결과를 리스트 형식으로 변환"
      ],
      "metadata": {
        "id": "dJbpArRyLrlJ"
      }
    },
    {
      "cell_type": "code",
      "source": [
        "nodes = G.nodes()\n",
        "\n",
        "deg_arr = [degree[node] for node in nodes]\n",
        "indeg_arr = [indegree[node] for node in nodes]\n",
        "outdeg_arr = [outdegree[node] for node in nodes]\n",
        "betweenness_arr = [betweenness[node] for node in nodes]\n",
        "closeness_arr = [closeness[node] for node in nodes]\n",
        "pagerank_arr = [pagerank[node] for node in nodes]\n",
        "clustering_arr = [clustering[node] for node in nodes]\n",
        "triangles_arr = [triangles[node] for node in nodes]"
      ],
      "metadata": {
        "id": "6ynBSQasLygt"
      },
      "execution_count": null,
      "outputs": []
    },
    {
      "cell_type": "code",
      "source": [
        "import matplotlib.pyplot as plt\n",
        "\n",
        "labels = list(nodes)\n",
        "\n",
        "for node in nodes:\n",
        "    if indegree[node] > 0.25:\n",
        "        for x, y, label in zip(indeg_arr, outdeg_arr, labels):\n",
        "            plt.annotate(label, (x, y), textcoords=\"offset points\", xytext=(5,5), ha='left', fontsize=3)\n",
        "\n",
        "plt.xlabel('In-degree')\n",
        "plt.ylabel('Out-degree')\n",
        "plt.title('Scatter Plot with Annotations')\n",
        "plt.grid(True)\n",
        "\n",
        "plt.scatter(indeg_arr, outdeg_arr, s=1, alpha=0.3)\n",
        "plt.show()"
      ],
      "metadata": {
        "id": "2NMyC83TMkGM"
      },
      "execution_count": null,
      "outputs": []
    },
    {
      "cell_type": "code",
      "source": [
        "for node in nodes:\n",
        "    if indegree[node] > 0.2 and outdegree[node] < 0.03:\n",
        "        print(node)"
      ],
      "metadata": {
        "id": "qpAc-HM-NEAP"
      },
      "execution_count": null,
      "outputs": []
    },
    {
      "cell_type": "markdown",
      "source": [
        "- Seaborn을 사용하여 간단하게 그리기"
      ],
      "metadata": {
        "id": "dcxCZ8jfm3fp"
      }
    },
    {
      "cell_type": "code",
      "source": [
        "import seaborn as sns\n",
        "import pandas as pd\n",
        "import numpy as np\n",
        "\n",
        "a = np.array([deg_arr, indeg_arr, outdeg_arr, betweenness_arr, closeness_arr, pagerank_arr, clustering_arr, triangles_arr]).T\n",
        "df = pd.DataFrame(a, columns=['deg','indeg','outdeg','bw','cl','pr','cc','tr'])\n",
        "sns.pairplot(df)\n",
        "plt.show()"
      ],
      "metadata": {
        "id": "_SCLPKH3m62U"
      },
      "execution_count": null,
      "outputs": []
    }
  ]
}